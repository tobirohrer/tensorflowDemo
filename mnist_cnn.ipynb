{
 "cells": [
  {
   "cell_type": "markdown",
   "metadata": {},
   "source": [
    "# MNIST low level 2 layer CNN minimal working example"
   ]
  },
  {
   "cell_type": "markdown",
   "metadata": {},
   "source": [
    "Low level example to show a basic implementation of a Convolutional Neural Network using TensorFlow. Most of the code is recycled from https://www.tensorflow.org/versions/r1.2/get_started/mnist/pros"
   ]
  },
  {
   "cell_type": "code",
   "execution_count": null,
   "metadata": {},
   "outputs": [],
   "source": [
    "import tensorflow as tf\n",
    "from tensorflow.examples.tutorials.mnist import input_data\n",
    "mnist = input_data.read_data_sets(\"./MNIST\", one_hot=True)"
   ]
  },
  {
   "cell_type": "markdown",
   "metadata": {},
   "source": [
    "## Hyperparameters"
   ]
  },
  {
   "cell_type": "code",
   "execution_count": null,
   "metadata": {},
   "outputs": [],
   "source": [
    "#not all... but some (Moste are still \"hardcoded\")\n",
    "learn_rate = 1e-4\n",
    "iterations = 10000\n",
    "batch_size = 50"
   ]
  },
  {
   "cell_type": "markdown",
   "metadata": {},
   "source": [
    "## Helper functions for Variable creation"
   ]
  },
  {
   "cell_type": "code",
   "execution_count": null,
   "metadata": {},
   "outputs": [],
   "source": [
    "\n",
    "def weight_variable(shape):\n",
    "  initial = tf.truncated_normal(shape, stddev=0.1)\n",
    "  return tf.Variable(initial)\n",
    "\n",
    "\n",
    "def bias_variable(shape):\n",
    "  initial = tf.constant(0.1, shape=shape)\n",
    "  return tf.Variable(initial)"
   ]
  },
  {
   "cell_type": "markdown",
   "metadata": {},
   "source": [
    "## Model definition"
   ]
  },
  {
   "cell_type": "code",
   "execution_count": null,
   "metadata": {},
   "outputs": [],
   "source": [
    "'''\n",
    "Placeholders: \n",
    "    -input_image is the \"flat\" one_hot representation of the input data.\n",
    "    -input_labels is the correct classification of the corresponding input_image\n",
    "'''\n",
    "input_image = tf.placeholder(tf.float32, [None, 784])\n",
    "input_labels = tf.placeholder(tf.float32, [None, 10])\n",
    "\n",
    "input_image_reshaped = tf.reshape(input_image, [-1, 28, 28, 1])\n",
    "\n",
    "\n",
    "#----------- Convolution Layer 1 ------------\n",
    "\n",
    "filter_layer_1 = weight_variable([5, 5, 1, 32])\n",
    "bias_layer_1 = bias_variable([32])\n",
    "#Perform the convolution. conv1 contains the 32 feature maps (each of them created by one of the 32 filters!)\n",
    "conv1 = tf.nn.conv2d(input_image_reshaped, \n",
    "                     filter_layer_1, \n",
    "                     strides=[1, 1, 1, 1], \n",
    "                     padding='SAME')\n",
    "#Relu as activation function!\n",
    "conv_layer_1 = tf.nn.relu(conv1 + bias_layer_1)\n",
    "\n",
    "pooling_layer_1 = tf.nn.max_pool(conv_layer_1,\n",
    "                                 ksize=[1, 2, 2, 1],\n",
    "                                 strides=[1, 2, 2, 1],\n",
    "                                 padding='SAME')\n",
    "\n",
    "\n",
    "#------------ Convolution Layer 2 -----------\n",
    "\n",
    "\n",
    "filter_layer_2 = weight_variable([5, 5, 32, 64])\n",
    "bias_layer_2 = bias_variable([64])\n",
    "conv2 = tf.nn.conv2d(pooling_layer_1,\n",
    "                     filter_layer_2,\n",
    "                     strides=[1, 1, 1, 1], \n",
    "                     padding='SAME')\n",
    "\n",
    "conv_layer_2 = tf.nn.relu(conv2 + bias_layer_2)\n",
    "\n",
    "pooling_layer_2 = tf.nn.max_pool(conv_layer_2,\n",
    "                                 ksize=[1, 2, 2, 1],\n",
    "                                 strides=[1, 2, 2, 1],\n",
    "                                 padding='SAME')\n",
    "\n",
    "\n",
    "#----------- Fully Connected Layer 1 -------------\n",
    "\n",
    "# Pooling the input twice brings the size down to 7*7 !\n",
    "weights_fc_1 = weight_variable([7 * 7 * 64, 1024])\n",
    "bias_fc_1 = bias_variable([1024])\n",
    "\n",
    "pooling_layer_2_flat = tf.reshape(pooling_layer_2, [-1, 7*7*64])\n",
    "fc_1 = tf.nn.relu(tf.matmul(pooling_layer_2_flat, weights_fc_1) + bias_fc_1)\n",
    "\n",
    "#------------ Dropout Layer --------------------\n",
    "keep_prob = tf.placeholder(tf.float32)\n",
    "dropout_layer = tf.nn.dropout(fc_1, keep_prob)\n",
    "\n",
    "#------------ Fully Connected Layer 2 ----------\n",
    "\n",
    "# Finally! The 2nd fully connected layer. The 10 output neurons, \"output\" \n",
    "# the probability of the image belonging to one of the 10 classes.\n",
    "weights_fc_2 = weight_variable([1024, 10])\n",
    "bias_fc_2 = bias_variable([10])\n",
    "outplut_class_probabilities = tf.matmul(dropout_layer, weights_fc_2) + bias_fc_2\n"
   ]
  },
  {
   "cell_type": "code",
   "execution_count": null,
   "metadata": {},
   "outputs": [],
   "source": [
    "# The error is beeing minimized by the optimizer during the training steps!\n",
    "error = tf.reduce_mean(tf.nn.softmax_cross_entropy_with_logits(labels=input_labels, \n",
    "                                                               logits=outplut_class_probabilities))\n",
    "\n",
    "optimizer = tf.train.AdamOptimizer(learn_rate)\n",
    "train_step = optimizer.minimize(error)\n",
    "\n",
    "correct_prediction = tf.equal(tf.argmax(outplut_class_probabilities, 1), tf.argmax(input_labels, 1))\n",
    "correct_prediction = tf.cast(correct_prediction, tf.float32)\n",
    "accuracy = tf.reduce_mean(correct_prediction)"
   ]
  },
  {
   "cell_type": "markdown",
   "metadata": {},
   "source": [
    "\n",
    "## Start the TensorFlow session"
   ]
  },
  {
   "cell_type": "code",
   "execution_count": null,
   "metadata": {},
   "outputs": [],
   "source": [
    "session = tf.Session()\n",
    "session.run(tf.global_variables_initializer())"
   ]
  },
  {
   "cell_type": "markdown",
   "metadata": {},
   "source": [
    "## Start training"
   ]
  },
  {
   "cell_type": "code",
   "execution_count": null,
   "metadata": {},
   "outputs": [],
   "source": [
    "for i in range(iterations):\n",
    "    batch = mnist.train.next_batch(batch_size)\n",
    "    if i % 100 == 0:\n",
    "        train_accuracy = session.run(accuracy,feed_dict={input_image: batch[0], input_labels: batch[1], keep_prob: 1.0})\n",
    "        print('step %d, training accuracy %g' % (i, train_accuracy))\n",
    "    session.run(train_step,feed_dict={input_image: batch[0], input_labels: batch[1], keep_prob: 0.5})\n",
    "    \n",
    "    \n",
    "    "
   ]
  },
  {
   "cell_type": "markdown",
   "metadata": {},
   "source": [
    "## Print the classification accuracy on the test data"
   ]
  },
  {
   "cell_type": "code",
   "execution_count": null,
   "metadata": {},
   "outputs": [],
   "source": [
    "print('test accuracy %g' % session.run(accuracy,feed_dict={input_image: mnist.test.images, input_labels: mnist.test.labels, keep_prob: 1.0}))"
   ]
  },
  {
   "cell_type": "markdown",
   "metadata": {},
   "source": [
    "# Visualisation"
   ]
  },
  {
   "cell_type": "code",
   "execution_count": null,
   "metadata": {},
   "outputs": [],
   "source": [
    "import matplotlib.pyplot as plt\n",
    "\n",
    "#display all convolution filters of first convolution layer\n",
    "#Those where learned by the nn during the training phase !\n",
    "transposed_filters_layer1 = tf.transpose(filter_layer_1, [3, 0, 1, 2])\n",
    "\n",
    "f, axarr = plt.subplots(4,8,figsize=(15, 15))\n",
    "im_id = 0\n",
    "f = 0\n",
    "for i in range(4):\n",
    "    for j in range(8):\n",
    "        try:\n",
    "            axarr[i,j].imshow(session.run(tf.reshape(transposed_filters_layer1[f], (5,5))))\n",
    "            axarr[i,j].axis('off')\n",
    "            im_id = im_id+1\n",
    "            f +=1\n",
    "        except:\n",
    "            continue\n",
    "plt.show()"
   ]
  }
 ],
 "metadata": {
  "kernelspec": {
   "display_name": "Python 3",
   "language": "python",
   "name": "python3"
  },
  "language_info": {
   "codemirror_mode": {
    "name": "ipython",
    "version": 3
   },
   "file_extension": ".py",
   "mimetype": "text/x-python",
   "name": "python",
   "nbconvert_exporter": "python",
   "pygments_lexer": "ipython3",
   "version": "3.6.5"
  }
 },
 "nbformat": 4,
 "nbformat_minor": 2
}
